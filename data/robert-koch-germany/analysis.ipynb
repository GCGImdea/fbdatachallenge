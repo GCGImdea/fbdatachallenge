{
 "cells": [
  {
   "cell_type": "code",
   "execution_count": 1,
   "metadata": {},
   "outputs": [],
   "source": [
    "import pandas as pd"
   ]
  },
  {
   "cell_type": "code",
   "execution_count": 2,
   "metadata": {},
   "outputs": [],
   "source": [
    "data = pd.read_csv(\"RKI_COVID19.csv\")"
   ]
  },
  {
   "cell_type": "code",
   "execution_count": 3,
   "metadata": {},
   "outputs": [],
   "source": [
    "cond_no_unbekannt = (data[\"Geschlecht\"] != \"unbekannt\") & (data[\"Altersgruppe\"] != \"unbekannt\")"
   ]
  },
  {
   "cell_type": "code",
   "execution_count": 4,
   "metadata": {},
   "outputs": [
    {
     "data": {
      "text/plain": [
       "Geschlecht  Altersgruppe\n",
       "M           A15-A34           13\n",
       "            A35-A59          331\n",
       "            A60-A79         2128\n",
       "            A80+            2804\n",
       "W           A00-A04            1\n",
       "            A15-A34            7\n",
       "            A35-A59          122\n",
       "            A60-A79          942\n",
       "            A80+            3156\n",
       "Name: AnzahlTodesfall, dtype: int64"
      ]
     },
     "execution_count": 4,
     "metadata": {},
     "output_type": "execute_result"
    }
   ],
   "source": [
    "died = data[cond_no_unbekannt & (data.NeuerTodesfall.isin([0, 1]))].groupby([\"Geschlecht\", \"Altersgruppe\"]).AnzahlTodesfall.sum()\n",
    "died"
   ]
  },
  {
   "cell_type": "code",
   "execution_count": 5,
   "metadata": {},
   "outputs": [
    {
     "data": {
      "text/plain": [
       "Geschlecht  Altersgruppe\n",
       "M           A00-A04          2451\n",
       "            A05-A14          6441\n",
       "            A15-A34         42557\n",
       "            A35-A59         51665\n",
       "            A60-A79         19127\n",
       "            A80+             5370\n",
       "W           A00-A04          2238\n",
       "            A05-A14          5957\n",
       "            A15-A34         39720\n",
       "            A35-A59         53600\n",
       "            A60-A79         18432\n",
       "            A80+            11229\n",
       "Name: AnzahlGenesen, dtype: int64"
      ]
     },
     "execution_count": 5,
     "metadata": {},
     "output_type": "execute_result"
    }
   ],
   "source": [
    "recovered = data[cond_no_unbekannt & (data.NeuGenesen.isin([0, 1]))].groupby([\"Geschlecht\", \"Altersgruppe\"]).AnzahlGenesen.sum()\n",
    "recovered"
   ]
  },
  {
   "cell_type": "code",
   "execution_count": 6,
   "metadata": {},
   "outputs": [
    {
     "data": {
      "text/plain": [
       "Geschlecht  Altersgruppe\n",
       "M           A00-A04          2451.0\n",
       "            A05-A14          6441.0\n",
       "            A15-A34         42570.0\n",
       "            A35-A59         51996.0\n",
       "            A60-A79         21255.0\n",
       "            A80+             8174.0\n",
       "W           A00-A04          2239.0\n",
       "            A05-A14          5957.0\n",
       "            A15-A34         39727.0\n",
       "            A35-A59         53722.0\n",
       "            A60-A79         19374.0\n",
       "            A80+            14385.0\n",
       "dtype: float64"
      ]
     },
     "execution_count": 6,
     "metadata": {},
     "output_type": "execute_result"
    }
   ],
   "source": [
    "resolved = died.add(recovered, fill_value=0)\n",
    "resolved"
   ]
  },
  {
   "cell_type": "code",
   "execution_count": 7,
   "metadata": {},
   "outputs": [
    {
     "data": {
      "text/plain": [
       "Geschlecht  Altersgruppe\n",
       "M           A00-A04          0.000000\n",
       "            A05-A14          0.000000\n",
       "            A15-A34          0.030538\n",
       "            A35-A59          0.636587\n",
       "            A60-A79         10.011762\n",
       "            A80+            34.303890\n",
       "W           A00-A04          0.044663\n",
       "            A05-A14          0.000000\n",
       "            A15-A34          0.017620\n",
       "            A35-A59          0.227095\n",
       "            A60-A79          4.862186\n",
       "            A80+            21.939520\n",
       "dtype: float64"
      ]
     },
     "execution_count": 7,
     "metadata": {},
     "output_type": "execute_result"
    }
   ],
   "source": [
    "cfr = died.divide(resolved, fill_value=0).multiply(100)\n",
    "cfr"
   ]
  }
 ],
 "metadata": {
  "kernelspec": {
   "display_name": "Python 3",
   "language": "python",
   "name": "python3"
  },
  "language_info": {
   "codemirror_mode": {
    "name": "ipython",
    "version": 3
   },
   "file_extension": ".py",
   "mimetype": "text/x-python",
   "name": "python",
   "nbconvert_exporter": "python",
   "pygments_lexer": "ipython3",
   "version": "3.8.2"
  }
 },
 "nbformat": 4,
 "nbformat_minor": 4
}
